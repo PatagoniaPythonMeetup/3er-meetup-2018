{
 "cells": [
  {
   "cell_type": "markdown",
   "metadata": {},
   "source": [
    "## Redes Neuronales\n",
    "\n",
    "Son un método de aprendizaje basado en funciones discriminantes lineales (FDL) que se determinan mediante el aprendizaje de un vector de parámetros θ resolviendo un problema de optimización en el que se pretende obtener el vector θ que minimice el error entre la salida esperada de las muestras de entrenamiento y la salida obtenida por la red neuronal.Este vector de parámetros θ, hace referencia al peso de las conexiones entre las neuronas de la red neuronal.\n",
    "\n",
    "Pueden aplicarse a tareas tales como regresión, clasificación, segmentación, etc. y pueden ser empleadas tanto en aprendizaje supervisado como no supervisado."
   ]
  },
  {
   "cell_type": "markdown",
   "metadata": {},
   "source": [
    "<!-- <img src=\"imgs/ann.png\" width=\"400\"> -->\n",
    "![title](imgs/ann.png)"
   ]
  },
  {
   "cell_type": "markdown",
   "metadata": {},
   "source": [
    "# Y los Autoencoders... Que son?\n",
    "\n",
    "Son redes neuronales de aprendizaje no supervisado utilizadas para aprender codificaciones (p.e. reducción de dimensionalidad, compresión, cifrado, etc). En estas redes, se espera que la salida \"Y\" de una muestra \"X\" sea tan parecida a \"X\" como sea posible, consiguiendo que la red aprenda a reconstruir la misma entrada que recibe."
   ]
  },
  {
   "cell_type": "markdown",
   "metadata": {},
   "source": [
    "![title](imgs/AE.png)"
   ]
  },
  {
   "cell_type": "markdown",
   "metadata": {},
   "source": [
    "## Y que se puede hacer con ellos?\n",
    "De todo... veamos unos ejemplos con imágenes\n",
    "\n",
    "[Autoencoder Lineal báaaaaaaaaaaaaasico...](AE_Linear_pytorch.ipynb)\n",
    "\n",
    "[Autoencoder Convolucional báaaaaaaaaaaaaasico...](AE_Conv_pytorch.ipynb)\n",
    "\n",
    "[Denoising Autoencoder Convolucional...  (báaaaaaaaaaaaaasico)](DAE_Conv_pytorch.ipynb)\n",
    "\n",
    "[Stacked Autoencoder (no hace falta decirlo)...](Stacked_cae_pytorch.ipynb)\n"
   ]
  },
  {
   "cell_type": "markdown",
   "metadata": {},
   "source": [
    "## Y cosas que no sean básicas?\n",
    "\n",
    "De todo también... pero para eso ya hace falta saber un poco más. Algunas aplicaciones interesantes son:\n",
    "\n",
    "[Super Resolution (paper)](https://ieeexplore.ieee.org/stamp/stamp.jsp?arnumber=7339460) [(implementación)](https://github.com/zengkun301/SRCDA)\n",
    "\n",
    "[Greycale Image Colorization](https://github.com/YerevaNN/neural-colorizer)\n",
    "\n",
    "[Similar image Finder](https://github.com/ankonzoid/artificio/tree/master/similar_images_AE)\n",
    "\n",
    "[Image Generation](https://github.com/vishalvijay18/Generative-Model-For-Image-Generation)\n",
    "\n",
    "Etc..."
   ]
  },
  {
   "cell_type": "markdown",
   "metadata": {},
   "source": [
    "## Datasets utilizados\n",
    "\n",
    "[Labeled Faces in the Wild (LFW) Dataset](http://conradsanderson.id.au/lfwcrop/)\n",
    "\n",
    "[Fashion Mnist](https://github.com/zalandoresearch/fashion-mnist)"
   ]
  }
 ],
 "metadata": {
  "kernelspec": {
   "display_name": "Python 3",
   "language": "python",
   "name": "python3"
  },
  "language_info": {
   "codemirror_mode": {
    "name": "ipython",
    "version": 3
   },
   "file_extension": ".py",
   "mimetype": "text/x-python",
   "name": "python",
   "nbconvert_exporter": "python",
   "pygments_lexer": "ipython3",
   "version": "3.6.2"
  }
 },
 "nbformat": 4,
 "nbformat_minor": 2
}
