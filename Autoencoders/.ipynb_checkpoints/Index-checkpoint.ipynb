{
 "cells": [
  {
   "cell_type": "markdown",
   "metadata": {},
   "source": [
    "## Redes Neuronales\n",
    "\n",
    "También llamadas redes neuronales artificiales o procesado distribuido y paralelo, se basan en funciones discriminantes lineales (FDL) que se determinan mediante el aprendizaje de un vector de parámetros θ resolviendo un problema de optimización en el que se pretende obtener el vector θ que minimice el error entre la salida esperada de las muestras de entrenamiento y la salida obtenida por la red neuronal.Este vector de parámetros θ, hace referencia al peso de las conexiones entre las neuronas de la red neuronal.\n",
    "\n",
    "Pueden aplicarse a tareas tales como regresión o clasificación, y pueden ser empleadas tanto en aprendizaje supervisado como no supervisado."
   ]
  },
  {
   "cell_type": "markdown",
   "metadata": {},
   "source": [
    "<!-- <img src=\"imgs/ann.png\" width=\"400\"> -->\n",
    "![title](imgs/ann.png)"
   ]
  },
  {
   "cell_type": "markdown",
   "metadata": {},
   "source": [
    "# Y los Autoencoders... Que son?\n",
    "\n",
    "Es una red neuronal de aprendizaje no supervisado utilizada para aprender codificaciones (p.e. reducción de dimensionalidad, compresión, cifrado, etc). En estas redes, se espera que la salida 'Y' de una muestra 'X' sea lo más parecido a 'X' posible, consiguiendo con ello que la red aprenda a reconstruir la misma entrada que recibe."
   ]
  },
  {
   "cell_type": "markdown",
   "metadata": {},
   "source": [
    "![title](imgs/AE.png)"
   ]
  },
  {
   "cell_type": "markdown",
   "metadata": {},
   "source": [
    "## Y que se hace con ellos?"
   ]
  }
 ],
 "metadata": {
  "kernelspec": {
   "display_name": "Python 3",
   "language": "python",
   "name": "python3"
  },
  "language_info": {
   "codemirror_mode": {
    "name": "ipython",
    "version": 3
   },
   "file_extension": ".py",
   "mimetype": "text/x-python",
   "name": "python",
   "nbconvert_exporter": "python",
   "pygments_lexer": "ipython3",
   "version": "3.6.2"
  }
 },
 "nbformat": 4,
 "nbformat_minor": 2
}
