{
 "cells": [
  {
   "cell_type": "markdown",
   "metadata": {},
   "source": [
    "## Stacked Autoencoders\n",
    "\n",
    "Es un metodo de procesamiento donde se entrena un autoencoder simple para la obtención de features de primer nivel. Luego, se toman los \"códigos\" obtenidos y se entrena un nuevo autoencoder simple para la obtención de features de segundo nivel repitiendo el proceso n veces.\n",
    "\n",
    "Por último se crea un \"encoder\" apilando los encoders anteriores, y se utiliza el código central para otra tarea, como por ejemplo, clasificación.\n",
    "\n",
    "![title](imgs/sae.png)"
   ]
  },
  {
   "cell_type": "code",
   "execution_count": 1,
   "metadata": {},
   "outputs": [],
   "source": [
    "from matplotlib import pyplot as plt\n",
    "import numpy as np\n",
    "from utiles import *\n",
    "import skimage.transform as trf\n",
    "from sklearn.model_selection import train_test_split\n",
    "from sklearn.preprocessing import OneHotEncoder"
   ]
  },
  {
   "cell_type": "code",
   "execution_count": 2,
   "metadata": {},
   "outputs": [],
   "source": [
    "import torch\n",
    "import torchvision\n",
    "from torch import nn\n",
    "import torch.nn.functional as F\n",
    "from torch.autograd import Variable\n",
    "from torch.utils.data import DataLoader\n",
    "from torchvision import transforms"
   ]
  },
  {
   "cell_type": "code",
   "execution_count": 4,
   "metadata": {},
   "outputs": [],
   "source": [
    "def fit( model, data, epochs, lr=.0001 ):\n",
    "    criterion = nn.MSELoss()\n",
    "    optimizer = torch.optim.Adam( model.parameters(), lr=lr)\n",
    "    for e in range( epochs ):\n",
    "        for d in data:\n",
    "            img = Variable(d)\n",
    "\n",
    "            optimizer.zero_grad()\n",
    "            output = model(img)\n",
    "            loss = criterion(output, img)\n",
    "            loss.backward()\n",
    "            optimizer.step()\n",
    "\n",
    "        print( \"epoch [{}/{}], loss:{:.4f}\".format(e + 1, epochs, loss.item() ) )\n",
    "    print( \"Finish...\" )"
   ]
  },
  {
   "cell_type": "code",
   "execution_count": 5,
   "metadata": {},
   "outputs": [],
   "source": [
    "x, y = load_mnist(\"data/fashion\", kind=\"train\")\n",
    "x = x/255\n",
    "x = x.reshape(x.shape[0], 28, 28)\n",
    "x_train, x_test, y_train, y_test = train_test_split(x[:20000], y[:20000], test_size=.25, random_state=15)"
   ]
  },
  {
   "cell_type": "code",
   "execution_count": 6,
   "metadata": {},
   "outputs": [
    {
     "data": {
      "text/plain": [
       "((15000, 28, 28), (5000, 28, 28))"
      ]
     },
     "execution_count": 6,
     "metadata": {},
     "output_type": "execute_result"
    }
   ],
   "source": [
    "x_train.shape, x_test.shape"
   ]
  },
  {
   "cell_type": "code",
   "execution_count": 7,
   "metadata": {},
   "outputs": [],
   "source": [
    "encoder = OneHotEncoder(categorical_features=\"all\")\n",
    "encoder.fit(y_train.reshape(-1, 1))  \n",
    "y_train_0 = encoder.transform(y_train.reshape(-1, 1)).toarray()\n",
    "y_train_0 = DataLoader(y_train_0, batch_size=50)\n",
    "y_test_0 = encoder.transform(y_test.reshape(-1, 1)).toarray()\n",
    "y_test_0 = DataLoader(y_test_0, batch_size=50)"
   ]
  },
  {
   "cell_type": "code",
   "execution_count": 8,
   "metadata": {},
   "outputs": [],
   "source": [
    "x_train_t, x_train_dl = to_tensor(x_train, b_size=50)\n",
    "x_test_t, x_test_dl = to_tensor(x_test, b_size=50)"
   ]
  },
  {
   "cell_type": "code",
   "execution_count": 9,
   "metadata": {},
   "outputs": [
    {
     "data": {
      "image/png": "[encoded data removed]",
      "text/plain": [
       "<Figure size 504x216 with 2 Axes>"
      ]
     },
     "metadata": {},
     "output_type": "display_data"
    },
    {
     "data": {
      "image/png": "[encoded data removed]",
      "text/plain": [
       "<Figure size 504x216 with 2 Axes>"
      ]
     },
     "metadata": {},
     "output_type": "display_data"
    }
   ],
   "source": [
    "plot_n_faces(x_train, x_train, 2)"
   ]
  },
  {
   "cell_type": "code",
   "execution_count": 8,
   "metadata": {},
   "outputs": [],
   "source": [
    "class Sae_l(nn.Module):\n",
    "    def __init__(self, img_shape=[28, 28], f_in=1, f_hid=8, d_fun=nn.Tanh):\n",
    "        super(Sae_l, self).__init__()\n",
    "        self.o_size = np.array( img_shape )\n",
    "        self.d_fun = d_fun\n",
    "        \n",
    "        self.conv = nn.Conv2d( f_in, f_hid, 3, padding=1, stride=1 )\n",
    "        self.ct1 = nn.ConvTranspose2d( f_hid, f_in, 3, padding=1, stride=2 )\n",
    "\n",
    "    def encode( self, x ):\n",
    "        x = nn.ReLU(True)( self.conv( x ) )\n",
    "        x = nn.MaxPool2d( kernel_size=2, stride=2 )( x )\n",
    "        return x\n",
    "\n",
    "    def decode( self, code ):\n",
    "        out_s = self.o_size\n",
    "        x = self.ct1( code, output_size=out_s )\n",
    "        x = self.d_fun()( x )\n",
    "\n",
    "        return x\n",
    "    \n",
    "    def forward(self, x):\n",
    "        code = self.encode( x )\n",
    "        rec = self.decode( code )\n",
    "        return rec"
   ]
  },
  {
   "cell_type": "code",
   "execution_count": 80,
   "metadata": {},
   "outputs": [],
   "source": [
    "m1 = Sae_l(img_shape=(28, 28), f_in=1, f_hid=8).double()"
   ]
  },
  {
   "cell_type": "code",
   "execution_count": 81,
   "metadata": {},
   "outputs": [],
   "source": [
    "m1.load_state_dict( torch.load(\"pesos/pytorch_sae_1.h5\") )"
   ]
  },
  {
   "cell_type": "code",
   "execution_count": 83,
   "metadata": {},
   "outputs": [
    {
     "name": "stdout",
     "output_type": "stream",
     "text": [
      "epoch [1/10], loss:0.0047\n",
      "epoch [2/10], loss:0.0047\n",
      "epoch [3/10], loss:0.0047\n",
      "epoch [4/10], loss:0.0047\n",
      "epoch [5/10], loss:0.0047\n",
      "epoch [6/10], loss:0.0047\n",
      "epoch [7/10], loss:0.0047\n",
      "epoch [8/10], loss:0.0047\n",
      "epoch [9/10], loss:0.0047\n",
      "epoch [10/10], loss:0.0047\n",
      "Finish...\n"
     ]
    }
   ],
   "source": [
    "criterion = nn.MSELoss()\n",
    "# optimizer = torch.optim.SGD( m1.parameters(), lr=0.001, momentum=.5 )\n",
    "optimizer = torch.optim.Adam( m1.parameters(), lr=0.0001 )\n",
    "epochs = 1\n",
    "for e in range( epochs ):\n",
    "    for d in x_train_dl:\n",
    "        img = d[0]\n",
    "        img = img.type('torch.DoubleTensor')\n",
    "        img = Variable(img)\n",
    "\n",
    "        optimizer.zero_grad()\n",
    "        output = m1(img)\n",
    "        loss = criterion(output, img)\n",
    "        loss.backward()\n",
    "        optimizer.step()\n",
    "\n",
    "    print( \"epoch [{}/{}], loss:{:.4f}\".format(e + 1, epochs, loss.item() ) )\n",
    "print( \"Finish...\" )"
   ]
  },
  {
   "cell_type": "code",
   "execution_count": 84,
   "metadata": {},
   "outputs": [],
   "source": [
    "torch.save(m1.state_dict(), \"pesos/pytorch_sae_1.h5\")"
   ]
  },
  {
   "cell_type": "code",
   "execution_count": 85,
   "metadata": {},
   "outputs": [
    {
     "data": {
      "text/plain": [
       "(torch.Size([50, 1, 28, 28]), (50, 28, 28))"
      ]
     },
     "execution_count": 85,
     "metadata": {},
     "output_type": "execute_result"
    }
   ],
   "source": [
    "input_d = next( iter(x_train_dl) )\n",
    "ddata = x_train[:50]\n",
    "predicted = m1( input_d[0].type('torch.DoubleTensor') ).data.numpy()\n",
    "predicted = predicted.reshape( predicted.shape[0], 28, 28 )\n",
    "input_d[0].shape, predicted.shape"
   ]
  },
  {
   "cell_type": "code",
   "execution_count": 86,
   "metadata": {},
   "outputs": [
    {
     "data": {
      "image/png": "[encoded data removed]",
      "text/plain": [
       "<Figure size 720x216 with 3 Axes>"
      ]
     },
     "metadata": {},
     "output_type": "display_data"
    },
    {
     "data": {
      "image/png": "[encoded data removed]",
      "text/plain": [
       "<Figure size 720x216 with 3 Axes>"
      ]
     },
     "metadata": {},
     "output_type": "display_data"
    },
    {
     "data": {
      "image/png": "[encoded data removed]",
      "text/plain": [
       "<Figure size 720x216 with 3 Axes>"
      ]
     },
     "metadata": {},
     "output_type": "display_data"
    },
    {
     "data": {
      "image/png": "[encoded data removed]",
      "text/plain": [
       "<Figure size 720x216 with 3 Axes>"
      ]
     },
     "metadata": {},
     "output_type": "display_data"
    },
    {
     "data": {
      "image/png": "[encoded data removed]",
      "text/plain": [
       "<Figure size 720x216 with 3 Axes>"
      ]
     },
     "metadata": {},
     "output_type": "display_data"
    }
   ],
   "source": [
    "plot_n_faces(ddata, ddata, 5, predicted)"
   ]
  },
  {
   "cell_type": "markdown",
   "metadata": {},
   "source": [
    "## 2th Layer"
   ]
  },
  {
   "cell_type": "code",
   "execution_count": 88,
   "metadata": {},
   "outputs": [],
   "source": [
    "tmp = []\n",
    "for x in x_train_dl:\n",
    "    img = x[0]\n",
    "    img = Variable( img )\n",
    "    output = m1.encode(img)\n",
    "    tmp.append(output)"
   ]
  },
  {
   "cell_type": "code",
   "execution_count": 89,
   "metadata": {},
   "outputs": [],
   "source": [
    "m2 = Sae_l(img_shape=(14, 14), f_in=8, f_hid=16, d_fun=nn.ReLU).double()"
   ]
  },
  {
   "cell_type": "code",
   "execution_count": 90,
   "metadata": {},
   "outputs": [],
   "source": [
    "m2.load_state_dict( torch.load(\"pesos/pytorch_sae_2.h5\") )"
   ]
  },
  {
   "cell_type": "code",
   "execution_count": 93,
   "metadata": {},
   "outputs": [
    {
     "name": "stdout",
     "output_type": "stream",
     "text": [
      "epoch [1/100], loss:0.0353\n",
      "epoch [2/100], loss:0.0351\n",
      "epoch [3/100], loss:0.0350\n",
      "epoch [4/100], loss:0.0349\n",
      "epoch [5/100], loss:0.0348\n",
      "epoch [6/100], loss:0.0347\n",
      "epoch [7/100], loss:0.0346\n",
      "epoch [8/100], loss:0.0345\n",
      "epoch [9/100], loss:0.0344\n",
      "epoch [10/100], loss:0.0343\n",
      "epoch [11/100], loss:0.0342\n",
      "epoch [12/100], loss:0.0341\n",
      "epoch [13/100], loss:0.0340\n",
      "epoch [14/100], loss:0.0339\n",
      "epoch [15/100], loss:0.0338\n",
      "epoch [16/100], loss:0.0337\n",
      "epoch [17/100], loss:0.0336\n",
      "epoch [18/100], loss:0.0335\n",
      "epoch [19/100], loss:0.0335\n",
      "epoch [20/100], loss:0.0334\n",
      "epoch [21/100], loss:0.0333\n",
      "epoch [22/100], loss:0.0332\n",
      "epoch [23/100], loss:0.0331\n",
      "epoch [24/100], loss:0.0330\n",
      "epoch [25/100], loss:0.0330\n",
      "epoch [26/100], loss:0.0329\n",
      "epoch [27/100], loss:0.0328\n",
      "epoch [28/100], loss:0.0327\n",
      "epoch [29/100], loss:0.0326\n",
      "epoch [30/100], loss:0.0326\n",
      "epoch [31/100], loss:0.0325\n",
      "epoch [32/100], loss:0.0324\n",
      "epoch [33/100], loss:0.0324\n",
      "epoch [34/100], loss:0.0323\n",
      "epoch [35/100], loss:0.0322\n",
      "epoch [36/100], loss:0.0321\n",
      "epoch [37/100], loss:0.0321\n",
      "epoch [38/100], loss:0.0320\n",
      "epoch [39/100], loss:0.0319\n",
      "epoch [40/100], loss:0.0319\n",
      "epoch [41/100], loss:0.0318\n",
      "epoch [42/100], loss:0.0318\n",
      "epoch [43/100], loss:0.0317\n",
      "epoch [44/100], loss:0.0316\n",
      "epoch [45/100], loss:0.0316\n",
      "epoch [46/100], loss:0.0315\n",
      "epoch [47/100], loss:0.0315\n",
      "epoch [48/100], loss:0.0314\n",
      "epoch [49/100], loss:0.0313\n",
      "epoch [50/100], loss:0.0313\n",
      "epoch [51/100], loss:0.0312\n",
      "epoch [52/100], loss:0.0312\n",
      "epoch [53/100], loss:0.0311\n",
      "epoch [54/100], loss:0.0311\n",
      "epoch [55/100], loss:0.0310\n",
      "epoch [56/100], loss:0.0310\n",
      "epoch [57/100], loss:0.0309\n",
      "epoch [58/100], loss:0.0309\n",
      "epoch [59/100], loss:0.0308\n",
      "epoch [60/100], loss:0.0308\n",
      "epoch [61/100], loss:0.0307\n",
      "epoch [62/100], loss:0.0307\n",
      "epoch [63/100], loss:0.0306\n",
      "epoch [64/100], loss:0.0306\n",
      "epoch [65/100], loss:0.0305\n",
      "epoch [66/100], loss:0.0305\n",
      "epoch [67/100], loss:0.0304\n",
      "epoch [68/100], loss:0.0304\n",
      "epoch [69/100], loss:0.0303\n",
      "epoch [70/100], loss:0.0303\n",
      "epoch [71/100], loss:0.0303\n",
      "epoch [72/100], loss:0.0302\n",
      "epoch [73/100], loss:0.0302\n",
      "epoch [74/100], loss:0.0301\n",
      "epoch [75/100], loss:0.0301\n",
      "epoch [76/100], loss:0.0301\n",
      "epoch [77/100], loss:0.0300\n",
      "epoch [78/100], loss:0.0300\n",
      "epoch [79/100], loss:0.0299\n",
      "epoch [80/100], loss:0.0299\n",
      "epoch [81/100], loss:0.0299\n",
      "epoch [82/100], loss:0.0298\n",
      "epoch [83/100], loss:0.0298\n",
      "epoch [84/100], loss:0.0298\n",
      "epoch [85/100], loss:0.0297\n",
      "epoch [86/100], loss:0.0297\n",
      "epoch [87/100], loss:0.0296\n",
      "epoch [88/100], loss:0.0296\n",
      "epoch [89/100], loss:0.0296\n",
      "epoch [90/100], loss:0.0295\n",
      "epoch [91/100], loss:0.0295\n",
      "epoch [92/100], loss:0.0295\n",
      "epoch [93/100], loss:0.0294\n",
      "epoch [94/100], loss:0.0294\n",
      "epoch [95/100], loss:0.0294\n",
      "epoch [96/100], loss:0.0293\n",
      "epoch [97/100], loss:0.0293\n",
      "epoch [98/100], loss:0.0293\n",
      "epoch [99/100], loss:0.0293\n",
      "epoch [100/100], loss:0.0292\n",
      "Finish...\n"
     ]
    }
   ],
   "source": [
    "epochs = 1\n",
    "criterion = nn.MSELoss()\n",
    "optimizer = torch.optim.SGD( m2.parameters(), lr=0.0001, momentum=.5 )\n",
    "\n",
    "for e in range( epochs ):\n",
    "    for d in tmp:\n",
    "        img = d.type('torch.DoubleTensor')\n",
    "        img = Variable(img)\n",
    "\n",
    "        optimizer.zero_grad()\n",
    "        output = m2(img)\n",
    "        loss = criterion(output, img)\n",
    "        loss.backward()\n",
    "        optimizer.step()\n",
    "\n",
    "    print( \"epoch [{}/{}], loss:{:.4f}\".format(e + 1, epochs, loss.item() ) )\n",
    "print( \"Finish...\" )"
   ]
  },
  {
   "cell_type": "code",
   "execution_count": 94,
   "metadata": {},
   "outputs": [],
   "source": [
    "torch.save(m2.state_dict(), \"pesos/pytorch_sae_2.h5\")"
   ]
  },
  {
   "cell_type": "markdown",
   "metadata": {},
   "source": [
    "## Classification"
   ]
  },
  {
   "cell_type": "code",
   "execution_count": 10,
   "metadata": {},
   "outputs": [],
   "source": [
    "class Sae_f(nn.Module):\n",
    "    def __init__(self):\n",
    "        super(Sae_f, self).__init__()\n",
    "        self.conv_1 = nn.Conv2d( 1, 8, 3, padding=1, stride=1 )\n",
    "        self.conv_2 = nn.Conv2d( 8, 16, 3, padding=1, stride=1 )\n",
    "        self.fc = nn.Linear(16*7*7, 10)\n",
    "\n",
    "    def encode( self, x ):\n",
    "        x = nn.ReLU(True)( self.conv_1( x ) )\n",
    "        x = nn.MaxPool2d( kernel_size=2, stride=2 )( x )\n",
    "        x = nn.ReLU(True)( self.conv_2( x ) )\n",
    "        x = nn.MaxPool2d( kernel_size=2, stride=2 )( x )\n",
    "        return x\n",
    "\n",
    "    def classify( self, code ):\n",
    "        x = self.fc( code.view(code.size()[0], 1, -1) )\n",
    "        x = F.softmax( x, dim=0 )\n",
    "        return x\n",
    "    \n",
    "    def forward(self, x):\n",
    "        code = self.encode( x )\n",
    "        cls = self.classify( code )\n",
    "        return cls"
   ]
  },
  {
   "cell_type": "code",
   "execution_count": 11,
   "metadata": {},
   "outputs": [],
   "source": [
    "cls = Sae_f().double()\n",
    "cls.conv_1.weight = m1.conv.weight\n",
    "cls.conv_2.weight = m2.conv.weight"
   ]
  },
  {
   "cell_type": "code",
   "execution_count": 12,
   "metadata": {},
   "outputs": [],
   "source": [
    "x_train_0 = DataLoader(x_train_t, batch_size=50)\n",
    "x_train_0 = [x for x in x_train_0]"
   ]
  },
  {
   "cell_type": "code",
   "execution_count": 13,
   "metadata": {},
   "outputs": [],
   "source": [
    "yy_train = DataLoader(y_train, batch_size=50)"
   ]
  },
  {
   "cell_type": "code",
   "execution_count": 14,
   "metadata": {},
   "outputs": [],
   "source": [
    "cls.load_state_dict( torch.load(\"pesos/pytorch_sae_final.h5\") )"
   ]
  },
  {
   "cell_type": "code",
   "execution_count": null,
   "metadata": {},
   "outputs": [
    {
     "name": "stdout",
     "output_type": "stream",
     "text": [
      "epoch [1/10], loss:2.1527\n",
      "epoch [2/10], loss:2.1527\n",
      "epoch [3/10], loss:2.1527\n",
      "epoch [4/10], loss:2.1527\n",
      "epoch [5/10], loss:2.1527\n",
      "epoch [6/10], loss:2.1527\n",
      "epoch [7/10], loss:2.1527\n",
      "epoch [8/10], loss:2.1527\n",
      "epoch [9/10], loss:2.1527\n"
     ]
    }
   ],
   "source": [
    "criterion = nn.CrossEntropyLoss()\n",
    "optimizer = torch.optim.SGD( cls.fc.parameters(), lr=0.001, momentum=.5)\n",
    "\n",
    "epochs = 10\n",
    "for e in range( epochs ):\n",
    "    for x, y in zip(x_train_0, yy_train):\n",
    "\n",
    "        img = Variable(x[0].type('torch.DoubleTensor'))\n",
    "        rta = Variable(y.type('torch.LongTensor'))\n",
    "        \n",
    "        optimizer.zero_grad()\n",
    "        output = cls(img)\n",
    "        loss = criterion(output.view(output.shape[0], 10), rta)\n",
    "        loss.backward()\n",
    "        optimizer.step()\n",
    "\n",
    "    print( \"epoch [{}/{}], loss:{:.4f}\".format(e + 1, epochs, loss.item() ) )"
   ]
  },
  {
   "cell_type": "code",
   "execution_count": 21,
   "metadata": {},
   "outputs": [],
   "source": [
    "torch.save(cls.state_dict(), \"pesos/pytorch_sae_final.h5\")"
   ]
  },
  {
   "cell_type": "code",
   "execution_count": 18,
   "metadata": {},
   "outputs": [],
   "source": [
    "preds = []\n",
    "for d in x_test_dl:\n",
    "    preds.extend( cls(d[0]).data.numpy().reshape(50, 10) )\n",
    "\n",
    "preds = np.array( preds )"
   ]
  },
  {
   "cell_type": "code",
   "execution_count": 19,
   "metadata": {},
   "outputs": [],
   "source": [
    "from sklearn.metrics import confusion_matrix"
   ]
  },
  {
   "cell_type": "code",
   "execution_count": 20,
   "metadata": {},
   "outputs": [],
   "source": [
    "y_pred = [ np.argmax(x) for x in preds ]"
   ]
  },
  {
   "cell_type": "code",
   "execution_count": 27,
   "metadata": {},
   "outputs": [
    {
     "name": "stdout",
     "output_type": "stream",
     "text": [
      "             precision    recall  f1-score   support\n",
      "\n",
      "          0       0.78      0.67      0.72       478\n",
      "          1       0.80      0.91      0.85       501\n",
      "          2       0.67      0.61      0.64       518\n",
      "          3       0.68      0.73      0.70       494\n",
      "          4       0.65      0.66      0.66       480\n",
      "          5       0.89      0.83      0.86       514\n",
      "          6       0.52      0.48      0.50       484\n",
      "          7       0.85      0.83      0.84       519\n",
      "          8       0.87      0.92      0.90       510\n",
      "          9       0.86      0.94      0.90       502\n",
      "\n",
      "avg / total       0.76      0.76      0.76      5000\n",
      "\n"
     ]
    }
   ],
   "source": [
    "from sklearn.metrics import classification_report\n",
    "print(classification_report(y_pred=y_pred, y_true=y_test))"
   ]
  },
  {
   "cell_type": "code",
   "execution_count": 21,
   "metadata": {},
   "outputs": [],
   "source": [
    "cm = confusion_matrix(y_true=y_test, y_pred=y_pred)\n",
    "cm = cm/np.sum(cm,axis=1)"
   ]
  },
  {
   "cell_type": "code",
   "execution_count": 22,
   "metadata": {},
   "outputs": [
    {
     "data": {
      "image/png": "[encoded data removed]",
      "text/plain": [
       "<Figure size 720x720 with 2 Axes>"
      ]
     },
     "metadata": {},
     "output_type": "display_data"
    }
   ],
   "source": [
    "plt.figure(figsize=(10, 10))\n",
    "plt.imshow(cm,cmap=plt.cm.Blues)\n",
    "plt.colorbar()\n",
    "plt.show()"
   ]
  }
 ],
 "metadata": {
  "kernelspec": {
   "display_name": "Python 3",
   "language": "python",
   "name": "python3"
  },
  "language_info": {
   "codemirror_mode": {
    "name": "ipython",
    "version": 3
   },
   "file_extension": ".py",
   "mimetype": "text/x-python",
   "name": "python",
   "nbconvert_exporter": "python",
   "pygments_lexer": "ipython3",
   "version": "3.6.2"
  }
 },
 "nbformat": 4,
 "nbformat_minor": 2
}
